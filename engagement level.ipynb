{
 "cells": [
  {
   "cell_type": "code",
   "execution_count": 2,
   "id": "1fb704ba",
   "metadata": {},
   "outputs": [],
   "source": [
    "import os\n",
    "import pandas as pd\n",
    "import time\n",
    "import datetime\n",
    "import numpy as np\n",
    "import sklearn\n",
    "from sklearn.preprocessing import OneHotEncoder\n",
    "import statsmodels.formula.api as smf\n",
    "import statsmodels.api as sm\n",
    "import matplotlib.pyplot as plt"
   ]
  },
  {
   "cell_type": "code",
   "execution_count": 3,
   "id": "70664416",
   "metadata": {},
   "outputs": [
    {
     "name": "stderr",
     "output_type": "stream",
     "text": [
      "D:\\anaconda3\\lib\\site-packages\\IPython\\core\\interactiveshell.py:3165: DtypeWarning: Columns (10,20) have mixed types.Specify dtype option on import or set low_memory=False.\n",
      "  has_raised = await self.run_ast_nodes(code_ast.body, cell_name,\n"
     ]
    },
    {
     "data": {
      "text/plain": [
       "Index(['ad_airing_id', 'ad_title', 'ad_type', 'viewing_start_time_utc',\n",
       "       'viewing_start_time_est', 'viewing_start_time_local', 'tv_day',\n",
       "       'airing_time_start_et', 'airing_time_end_et', 'brand_name',\n",
       "       'industry_name', 'unique_pod', 'pod_duration', 'position_in_pod',\n",
       "       'channel', 'channel_type', 'program', 'program_genre', 'program_type',\n",
       "       'program_subtype', 'new_episode', 'tmsid', 'orig_airdate_est',\n",
       "       'program_time_start', 'program_time_end', 'timeshifted', 'hh_id',\n",
       "       'viewer_id', 'employment', 'age', 'gender', 'education', 'ethnicity',\n",
       "       'party', 'hh_education', 'hh_employment', 'hh_ethnicity', 'hh_income',\n",
       "       'hh_party', 'batch', 'ad_duration', 'program_block_duration',\n",
       "       'active_seconds', 'visible_seconds', 'attention_seconds',\n",
       "       'smile_seconds', 'active_to_duration_ratio', 'visible_to_active_ratio',\n",
       "       'visible_to_duration_ratio', 'attention_to_visible_ratio',\n",
       "       'attention_to_duration_ratio',\n",
       "       'attention_to_visible_wtd_active_to_duration', 'smile_to_visible_ratio',\n",
       "       'smile_to_duration_ratio', 'smile_to_visible_wtd_active_to_duration',\n",
       "       'visible_to_active_index', 'attention_to_visible_index',\n",
       "       'smile_to_visible_index', 'visible_to_duration_index',\n",
       "       'attention_to_duration_index', 'smile_to_duration_index',\n",
       "       'attention_to_visible_wtd_active_to_duration_index',\n",
       "       'smile_to_visible_wtd_active_to_duration_index', 'daypart_nielsen',\n",
       "       'frequency_visible', 'frequency_attention',\n",
       "       'attention_to_visible_adjusted_by_pod', 'weight', 'creative_length'],\n",
       "      dtype='object')"
      ]
     },
     "execution_count": 3,
     "metadata": {},
     "output_type": "execute_result"
    }
   ],
   "source": [
    "data = pd.read_csv('2016_12.csv')\n",
    "data.columns"
   ]
  },
  {
   "cell_type": "code",
   "execution_count": 5,
   "id": "b88ff3a6",
   "metadata": {},
   "outputs": [
    {
     "data": {
      "text/plain": [
       "array([ 724003,  586001, 2123005, ..., 2081032,  734001,  643022],\n",
       "      dtype=int64)"
      ]
     },
     "execution_count": 5,
     "metadata": {},
     "output_type": "execute_result"
    }
   ],
   "source": [
    "viewer_id = data['viewer_id']\n",
    "len(pd.unique(viewer_id))\n",
    "pd.unique(viewer_id)"
   ]
  },
  {
   "cell_type": "code",
   "execution_count": 6,
   "id": "fa8cb0a8",
   "metadata": {},
   "outputs": [
    {
     "data": {
      "text/plain": [
       "830174"
      ]
     },
     "execution_count": 6,
     "metadata": {},
     "output_type": "execute_result"
    }
   ],
   "source": [
    "ad_airing_id = data['ad_airing_id']\n",
    "len(pd.unique(ad_airing_id))"
   ]
  },
  {
   "cell_type": "code",
   "execution_count": 6,
   "id": "0f54dc31",
   "metadata": {},
   "outputs": [],
   "source": [
    "# active_ratio = data['active_to_duration_ratio']\n",
    "# engagement level: attetion_to_duration_ratio\n",
    "attention_ratio = data['attention_to_duration_ratio']"
   ]
  },
  {
   "cell_type": "code",
   "execution_count": 7,
   "id": "ecd11258",
   "metadata": {},
   "outputs": [
    {
     "data": {
      "text/plain": [
       "170"
      ]
     },
     "execution_count": 7,
     "metadata": {},
     "output_type": "execute_result"
    }
   ],
   "source": [
    "industry = data['industry_name']\n",
    "len(pd.unique(industry))"
   ]
  },
  {
   "cell_type": "code",
   "execution_count": 8,
   "id": "3b66fa63",
   "metadata": {},
   "outputs": [],
   "source": [
    "timeString = data['viewing_start_time_utc'].tolist()\n",
    "view_date = [] # y-m-d date format\n",
    "time_unix = [] # uniform time format by seconds\n",
    "for t in timeString:\n",
    "    date_time_obj = datetime.datetime.strptime(t, '%Y-%m-%d %H:%M:%S.%f')\n",
    "    v_d = date_time_obj.date()\n",
    "    t_u = time.mktime(date_time_obj.timetuple())\n",
    "    time_unix.append(t_u)\n",
    "    view_date.append(v_d)"
   ]
  },
  {
   "cell_type": "code",
   "execution_count": 9,
   "id": "9d40fae2",
   "metadata": {},
   "outputs": [],
   "source": [
    "dictionary = {'viewer_id': viewer_id,'ads_id':ad_airing_id,'viewing_start_time_utc': timeString, \n",
    "              'time_unix': time_unix,'view_date':view_date,'attention_to_duration_ratio': attention_ratio, 'industry': industry}  \n",
    "dt = pd.DataFrame(dictionary)"
   ]
  },
  {
   "cell_type": "code",
   "execution_count": 10,
   "id": "076fa807",
   "metadata": {},
   "outputs": [],
   "source": [
    "# plots for attention over time by sum and mean\n",
    "plot_data = dt[['view_date','attention_to_duration_ratio']]\n",
    "plot_sum = plot_data.groupby('view_date')['attention_to_duration_ratio'].sum()\n",
    "plot_mean = plot_data.groupby('view_date')['attention_to_duration_ratio'].mean()"
   ]
  },
  {
   "cell_type": "code",
   "execution_count": 10,
   "id": "678abb41",
   "metadata": {},
   "outputs": [
    {
     "data": {
      "image/png": "[encoded data removed]",
      "text/plain": [
       "<Figure size 432x288 with 1 Axes>"
      ]
     },
     "metadata": {
      "needs_background": "light"
     },
     "output_type": "display_data"
    }
   ],
   "source": [
    "plt.plot(plot_sum.index,plot_sum.values, label=\"aggregated attention over time\", color='k')\n",
    "plt.ylabel(\"sum attention\")\n",
    "plt.xlabel(\"Date\")\n",
    "plt.legend(loc=\"best\",fontsize=8)\n",
    "plt.title(\"attention over time\")\n",
    "plt.show()"
   ]
  },
  {
   "cell_type": "code",
   "execution_count": 11,
   "id": "d9bf19c6",
   "metadata": {},
   "outputs": [
    {
     "data": {
      "image/png": "[encoded data removed]",
      "text/plain": [
       "<Figure size 432x288 with 1 Axes>"
      ]
     },
     "metadata": {
      "needs_background": "light"
     },
     "output_type": "display_data"
    }
   ],
   "source": [
    "plt.plot(plot_mean.index,plot_mean.values, label=\"average attention over time\", color='k')\n",
    "plt.ylabel(\"average attention\")\n",
    "plt.xlabel(\"Date\")\n",
    "plt.legend(loc=\"best\",fontsize=8)\n",
    "plt.title(\"attention over time\")\n",
    "plt.show()"
   ]
  },
  {
   "cell_type": "code",
   "execution_count": null,
   "id": "ce775968",
   "metadata": {},
   "outputs": [],
   "source": [
    "## Regression One\n",
    "# Y = attention (engagement level) \n",
    "# X = previous 10-min windon attention (engagement level)\n",
    "# control: Fixed Effect of viewers. Demeaned X and Y."
   ]
  },
  {
   "cell_type": "code",
   "execution_count": 12,
   "id": "dc5af698",
   "metadata": {},
   "outputs": [],
   "source": [
    "# data processing\n",
    "# filter attention ratio = 0\n",
    "dt = dt.loc[~(dt['attention_to_duration_ratio'] == 0)]\n",
    "# sort viewer and time\n",
    "dt = dt.sort_values(['viewer_id','viewing_start_time_utc'])\n",
    "dt['prev_time_unix'] = dt.groupby('viewer_id')['time_unix'].shift()\n",
    "dt['prev_attention'] = dt.groupby('viewer_id')['attention_to_duration_ratio'].shift()\n",
    "gap = dt['time_unix'] - dt['prev_time_unix']\n",
    "gap = gap.tolist() # time differences\n",
    "prev_id = []\n",
    "for i in gap:\n",
    "    if i < 60*10: # ten minutes\n",
    "        prev = 1\n",
    "    else:\n",
    "        prev = 0\n",
    "    prev_id.append(prev)\n",
    "dt['prev_id'] = prev_id # 0 and 1 indicator\n",
    "dt['lag_attention'] =np.nan\n",
    "dt.loc[dt['prev_id'] == 1, 'lag_attention'] = dt.loc[dt['prev_id'] == 1, 'prev_attention']\n",
    "dt['prev_industry'] = dt.groupby('viewer_id')['industry'].shift()\n",
    "dt = dt.dropna(subset=['lag_attention','industry','prev_industry'])"
   ]
  },
  {
   "cell_type": "code",
   "execution_count": 13,
   "id": "bbedffbf",
   "metadata": {},
   "outputs": [
    {
     "name": "stdout",
     "output_type": "stream",
     "text": [
      "                            OLS Regression Results                            \n",
      "==============================================================================\n",
      "Dep. Variable:               demean_y   R-squared:                       0.270\n",
      "Model:                            OLS   Adj. R-squared:                  0.270\n",
      "Method:                 Least Squares   F-statistic:                 1.504e+05\n",
      "Date:                Sat, 20 Nov 2021   Prob (F-statistic):               0.00\n",
      "Time:                        12:39:09   Log-Likelihood:                 71976.\n",
      "No. Observations:              407460   AIC:                        -1.439e+05\n",
      "Df Residuals:                  407458   BIC:                        -1.439e+05\n",
      "Df Model:                           1                                         \n",
      "Covariance Type:            nonrobust                                         \n",
      "==============================================================================\n",
      "                 coef    std err          t      P>|t|      [0.025      0.975]\n",
      "------------------------------------------------------------------------------\n",
      "Intercept   1.935e-16      0.000   6.09e-13      1.000      -0.001       0.001\n",
      "demean_x       0.5216      0.001    387.834      0.000       0.519       0.524\n",
      "==============================================================================\n",
      "Omnibus:                    53144.712   Durbin-Watson:                   2.108\n",
      "Prob(Omnibus):                  0.000   Jarque-Bera (JB):            99109.057\n",
      "Skew:                           0.847   Prob(JB):                         0.00\n",
      "Kurtosis:                       4.723   Cond. No.                         4.23\n",
      "==============================================================================\n",
      "\n",
      "Notes:\n",
      "[1] Standard Errors assume that the covariance matrix of the errors is correctly specified.\n"
     ]
    }
   ],
   "source": [
    "# viewer_id fixed effect\n",
    "demean_dt = pd.DataFrame()\n",
    "df = dt.groupby('viewer_id')\n",
    "\n",
    "for name, group in df:\n",
    "    m1 = group['attention_to_duration_ratio'].mean()\n",
    "    m2 = group['lag_attention'].mean()\n",
    "    demean_attention = group['attention_to_duration_ratio'] - m1\n",
    "    demean_lag_attention = group['lag_attention'] - m2\n",
    "    dic = {'demean_y':demean_attention,'demean_x':demean_lag_attention}\n",
    "    demean = pd.DataFrame(dic)\n",
    "    demean_dt = demean_dt.append(demean)\n",
    "    \n",
    "results = smf.ols('demean_y ~ demean_x', data=demean_dt).fit()\n",
    "print(results.summary())"
   ]
  },
  {
   "cell_type": "code",
   "execution_count": 14,
   "id": "f4b4bdc1",
   "metadata": {},
   "outputs": [],
   "source": [
    "## Regression Two\n",
    "# Y = attention (engagement level) \n",
    "# X = categorical(industry) + categorical(prev_industry)\n",
    "# previous 10-min window industry\n",
    "# control: Fixed Effect of viewers. Demeaned X and Y."
   ]
  },
  {
   "cell_type": "code",
   "execution_count": 15,
   "id": "1f1dd188",
   "metadata": {},
   "outputs": [],
   "source": [
    "# ads' industries fixed effect\n",
    "demean_dt['industry'] = dt['industry']\n",
    "demean_dt['prev_industry'] = dt['prev_industry']\n",
    "# one hot encoded for industry\n",
    "industry = dt['industry'].values.tolist()\n",
    "uni_ind = pd.unique(dt['industry']).tolist()\n",
    "uni_ind = [[d] for d in uni_ind]\n",
    "drop_enc = OneHotEncoder(drop='first').fit(uni_ind) # drop the first col (avoid linearity)\n",
    "industry = [[d] for d in industry]\n",
    "industry_encod = drop_enc.transform(industry).toarray()\n",
    "# one hot encoded for previous industry\n",
    "prev_industry = dt['prev_industry'].values.tolist()\n",
    "prev_industry = [[d] for d in prev_industry]\n",
    "prev_industry_encod = drop_enc.transform(prev_industry).toarray()\n",
    "# get the industry names\n",
    "uni_ind = pd.unique(dt['industry']).tolist()\n",
    "dt[uni_ind[1:]] = industry_encod\n",
    "# get the previous industry names\n",
    "pre_uni_ind = ['prev_'+d for d in uni_ind]\n",
    "dt[pre_uni_ind[1:]] = prev_industry_encod"
   ]
  },
  {
   "cell_type": "code",
   "execution_count": 16,
   "id": "48ff67bc",
   "metadata": {},
   "outputs": [],
   "source": [
    "# demean of categorical industries\n",
    "demean_encod_dt = pd.DataFrame()\n",
    "df = dt.groupby('viewer_id')\n",
    "ind = uni_ind[1:] + pre_uni_ind[1:]\n",
    "for name,group in df:\n",
    "    mat = group[ind].values\n",
    "    mean_ind = np.mean(mat,axis=0)\n",
    "    demean_mat = mat - mean_ind\n",
    "    demean_df = pd.DataFrame(demean_mat, columns = ind)\n",
    "    demean_encod_dt = demean_encod_dt.append(demean_df)\n",
    "\n",
    "demean_y = pd.DataFrame()\n",
    "for name, group in df:\n",
    "    m1 = group['attention_to_duration_ratio'].mean()\n",
    "    demean_attention = group['attention_to_duration_ratio'] - m1\n",
    "    dic = {'demean_y':demean_attention}\n",
    "    demean = pd.DataFrame(dic)\n",
    "    demean_y = demean_y.append(demean)\n",
    "\n",
    "demean_encod_dt['demean_y'] = demean_y['demean_y'].values"
   ]
  },
  {
   "cell_type": "code",
   "execution_count": 17,
   "id": "a23ff220",
   "metadata": {},
   "outputs": [
    {
     "name": "stdout",
     "output_type": "stream",
     "text": [
      "                                 OLS Regression Results                                \n",
      "=======================================================================================\n",
      "Dep. Variable:               demean_y   R-squared (uncentered):                   0.011\n",
      "Model:                            OLS   Adj. R-squared (uncentered):              0.011\n",
      "Method:                 Least Squares   F-statistic:                              13.89\n",
      "Date:                Sat, 20 Nov 2021   Prob (F-statistic):                        0.00\n",
      "Time:                        12:57:56   Log-Likelihood:                          10286.\n",
      "No. Observations:              407460   AIC:                                 -1.990e+04\n",
      "Df Residuals:                  407124   BIC:                                 -1.623e+04\n",
      "Df Model:                         336                                                  \n",
      "Covariance Type:            nonrobust                                                  \n",
      "================================================================================================================\n",
      "                                                   coef    std err          t      P>|t|      [0.025      0.975]\n",
      "----------------------------------------------------------------------------------------------------------------\n",
      "Healthcare & Awareness                          -0.0237      0.005     -4.663      0.000      -0.034      -0.014\n",
      "Auto Makers                                      0.0104      0.008      1.310      0.190      -0.005       0.026\n",
      "TV Networks                                     -0.1323      0.009    -14.226      0.000      -0.150      -0.114\n",
      "Rx: Psoriasis, Skin & Nails                      0.0177      0.006      2.796      0.005       0.005       0.030\n",
      "Cable, Satellite TV & ISP                       -0.0101      0.007     -1.413      0.158      -0.024       0.004\n",
      "Rx: Diabetes & Blood Disorders                  -0.0152      0.004     -4.156      0.000      -0.022      -0.008\n",
      "Snack Foods                                     -0.0125      0.003     -3.679      0.000      -0.019      -0.006\n",
      "Oral Care                                        0.0145      0.010      1.524      0.128      -0.004       0.033\n",
      "OTC: Allergies, Cold & Flu                      -0.0105      0.006     -1.609      0.108      -0.023       0.002\n",
      "Pet Care                                        -0.0006      0.004     -0.135      0.893      -0.009       0.008\n",
      "Movies                                          -0.0176      0.014     -1.255      0.210      -0.045       0.010\n",
      "Vitamins & Supplements                           0.0095      0.005      2.108      0.035       0.001       0.018\n",
      "Banks & Credit Cards                             0.0160      0.013      1.272      0.203      -0.009       0.041\n",
      "Hospitals & Clinics                              0.0133      0.006      2.348      0.019       0.002       0.024\n",
      "Credit Services                                 -0.0109      0.008     -1.369      0.171      -0.027       0.005\n",
      "Shaving & Hair Removal                           0.0029      0.004      0.693      0.488      -0.005       0.011\n",
      "Online & Information                            -0.0664      0.037     -1.811      0.070      -0.138       0.005\n",
      "Clothing                                        -0.0182      0.009     -2.091      0.037      -0.035      -0.001\n",
      "Investment Services                              0.0162      0.005      3.592      0.000       0.007       0.025\n",
      "Resorts & Theme Parks                            0.0145      0.008      1.821      0.069      -0.001       0.030\n",
      "Health Information                               0.0471      0.010      4.859      0.000       0.028       0.066\n",
      "Furniture & Bedding                             -0.0364      0.012     -2.949      0.003      -0.061      -0.012\n",
      "Rx: Bladder & Gastrointestinal                   0.0981      0.022      4.401      0.000       0.054       0.142\n",
      "Rx: Mens & Womens Health                         0.0100      0.025      0.401      0.688      -0.039       0.059\n",
      "Social Issues                                    0.0215      0.005      4.600      0.000       0.012       0.031\n",
      "Clothing & Footwear Stores                      -0.0292      0.021     -1.360      0.174      -0.071       0.013\n",
      "News & Information                               0.0314      0.017      1.802      0.071      -0.003       0.066\n",
      "Online & Auction Websites                       -0.0136      0.007     -1.972      0.049      -0.027   -8.58e-05\n",
      "Hair Restoration                                 0.0076      0.004      1.777      0.076      -0.001       0.016\n",
      "Outdoor & Sporting Goods                         0.0170      0.007      2.609      0.009       0.004       0.030\n",
      "Bath                                             0.0016      0.005      0.338      0.735      -0.008       0.011\n",
      "OTC: Pain Relief                                 0.0015      0.012      0.127      0.899      -0.021       0.024\n",
      "Gyms & Fitness                                  -0.0131      0.007     -1.998      0.046      -0.026      -0.000\n",
      "Tools                                           -0.0151      0.008     -1.875      0.061      -0.031       0.001\n",
      "Flooring                                         0.0095      0.013      0.714      0.475      -0.017       0.036\n",
      "Car Maintenance & Accessories                   -0.0197      0.007     -2.759      0.006      -0.034      -0.006\n",
      "Weight Loss                                      0.0094      0.007      1.362      0.173      -0.004       0.023\n",
      "Sleep Disorders                                 -0.0110      0.007     -1.666      0.096      -0.024       0.002\n",
      "Casual Dining                                   -0.0298      0.018     -1.623      0.105      -0.066       0.006\n",
      "Home Security                                    0.0089      0.006      1.417      0.157      -0.003       0.021\n",
      "OTC: Gastrointestinal                            0.0126      0.006      1.944      0.052      -0.000       0.025\n",
      "Fuel & Motor Oil                                -0.0412      0.014     -3.029      0.002      -0.068      -0.015\n",
      "Mobile Devices                                  -0.0389      0.010     -4.077      0.000      -0.058      -0.020\n",
      "Auto & General                                  -0.0209      0.021     -1.019      0.308      -0.061       0.019\n",
      "Kitchenware                                      0.0160      0.004      4.542      0.000       0.009       0.023\n",
      "Rx: Asthma & COPD                                0.0103      0.006      1.718      0.086      -0.001       0.022\n",
      "Frozen Foods                                    -0.5879      0.334     -1.760      0.078      -1.243       0.067\n",
      "Skin & Foot Care                                 0.0168      0.020      0.859      0.390      -0.021       0.055\n",
      "Casinos & Gambling                              -0.0160      0.014     -1.170      0.242      -0.043       0.011\n",
      "Supplies                                        -0.0317      0.019     -1.700      0.089      -0.068       0.005\n",
      "Business Supplies & Services                     0.0226      0.015      1.556      0.120      -0.006       0.051\n",
      "Power & Electricity                              0.0673      0.022      3.035      0.002       0.024       0.111\n",
      "Enterprise & Cloud                               0.0293      0.007      4.299      0.000       0.016       0.043\n",
      "Quick Serve                                      0.0210      0.006      3.525      0.000       0.009       0.033\n",
      "Pizza                                            0.0015      0.006      0.240      0.810      -0.011       0.014\n",
      "Department Stores                               -0.0200      0.010     -2.080      0.037      -0.039      -0.001\n",
      "Wireless                                        -0.1015      0.008    -12.966      0.000      -0.117      -0.086\n",
      "Candy & Gum                                      0.0195      0.006      3.413      0.001       0.008       0.031\n",
      "Breakfast & Cereal                               0.0372      0.009      4.152      0.000       0.020       0.055\n",
      "Accessories                                     -0.0391      0.017     -2.346      0.019      -0.072      -0.006\n",
      "Real Estate & Mortgages                         -0.0242      0.013     -1.905      0.057      -0.049       0.001\n",
      "Dairy, Eggs & Cheese                            -0.0268      0.036     -0.749      0.454      -0.097       0.043\n",
      "Cleaning Supplies & Fresheners                  -0.0121      0.005     -2.339      0.019      -0.022      -0.002\n",
      "Hair Care                                        0.0172      0.006      2.919      0.004       0.006       0.029\n",
      "Toys & Games                                    -0.0140      0.014     -0.978      0.328      -0.042       0.014\n",
      "Housing & Home Improvement                       0.0160      0.010      1.558      0.119      -0.004       0.036\n",
      "Car Dealers                                     -0.0625      0.012     -5.140      0.000      -0.086      -0.039\n",
      "Mobile Games & Video Games                       0.0278      0.008      3.664      0.000       0.013       0.043\n",
      "Beer                                            -0.0356      0.010     -3.666      0.000      -0.055      -0.017\n",
      "Sports                                          -0.0259      0.009     -2.914      0.004      -0.043      -0.008\n",
      "Pets                                             0.0049      0.038      0.128      0.899      -0.070       0.080\n",
      "Speakers & Headphones                            0.0051      0.020      0.248      0.804      -0.035       0.045\n",
      "Fragrances                                       0.0101      0.009      1.170      0.242      -0.007       0.027\n",
      "Computers & Tablets                              0.0054      0.005      1.061      0.289      -0.005       0.015\n",
      "Meat & Seafood                                  -0.0189      0.008     -2.381      0.017      -0.034      -0.003\n",
      "Appliances                                      -0.0774      0.006    -12.582      0.000      -0.089      -0.065\n",
      "Rx: Stroke, Cholesterol & Heart Disease         -0.0363      0.037     -0.976      0.329      -0.109       0.037\n",
      "Specialty Stores                                -0.0248      0.008     -3.236      0.001      -0.040      -0.010\n",
      "Addiction & Treatment Centers                    0.1065      0.062      1.724      0.085      -0.015       0.228\n",
      "Incontinence & Overactive Bladder               -0.0044      0.015     -0.283      0.777      -0.035       0.026\n",
      "Sauces, Seasoning & Salad Dressings             -0.0768      0.026     -2.942      0.003      -0.128      -0.026\n",
      "Legal Services                                  -0.0624      0.075     -0.834      0.404      -0.209       0.084\n",
      "Rx: Varied                                      -0.0179      0.007     -2.680      0.007      -0.031      -0.005\n",
      "Canned Goods & Soups                            -0.0118      0.006     -1.949      0.051      -0.024    6.72e-05\n",
      "Cancer                                          -0.0120      0.006     -2.050      0.040      -0.023      -0.001\n",
      "Colleges & Universities                         -0.0118      0.007     -1.594      0.111      -0.026       0.003\n",
      "Animals & Environment                           -0.0285      0.006     -4.474      0.000      -0.041      -0.016\n",
      "Research                                         0.0235      0.027      0.877      0.380      -0.029       0.076\n",
      "Soda                                            -0.0257      0.012     -2.205      0.027      -0.049      -0.003\n",
      "Fruit Juices & Drinks                           -0.0115      0.007     -1.639      0.101      -0.025       0.002\n",
      "Underwear                                       -0.0125      0.009     -1.403      0.161      -0.030       0.005\n",
      "Garbage & Freezer Bags                          -0.0422      0.006     -6.856      0.000      -0.054      -0.030\n",
      "Web Services                                    -0.0602      0.050     -1.215      0.224      -0.157       0.037\n",
      "Rx: Cancer                                      -0.0327      0.009     -3.599      0.000      -0.050      -0.015\n",
      "Dating                                          -0.0126      0.004     -2.846      0.004      -0.021      -0.004\n",
      "Toiletries & Paper Products                     -0.0212      0.005     -4.287      0.000      -0.031      -0.012\n",
      "Military                                        -0.0446      0.020     -2.252      0.024      -0.083      -0.006\n",
      "Life & Supplementary                             0.0034      0.004      0.939      0.348      -0.004       0.011\n",
      "Medical Services                                 0.0136      0.016      0.847      0.397      -0.018       0.045\n",
      "Health Conscious                                -0.0185      0.006     -2.885      0.004      -0.031      -0.006\n",
      "Child Advocacy & Education                      -0.0218      0.011     -1.909      0.056      -0.044       0.001\n",
      "Mattress Stores                                 -0.0015      0.040     -0.038      0.970      -0.081       0.078\n",
      "Consumer Software & Apps                         0.0141      0.004      3.147      0.002       0.005       0.023\n",
      "Auditory & Vision                                0.0184      0.007      2.739      0.006       0.005       0.032\n",
      "Home Entertainment                               0.0065      0.005      1.389      0.165      -0.003       0.016\n",
      "Pharmacies                                      -0.0003      0.009     -0.037      0.970      -0.018       0.017\n",
      "Cities & Destinations                           -0.0089      0.004     -1.991      0.046      -0.018      -0.000\n",
      "Cruiselines                                      0.0035      0.006      0.585      0.559      -0.008       0.015\n",
      "Rx: Osteoporosis & Arthritis                     0.0070      0.005      1.449      0.147      -0.002       0.017\n",
      "Wine, Alcohol & E-Cigs                           0.0098      0.008      1.196      0.232      -0.006       0.026\n",
      "Rx: Alzheimers & Multiple Sclerosis             -0.0082      0.236     -0.035      0.972      -0.471       0.455\n",
      "Government Services                              0.0096      0.008      1.129      0.259      -0.007       0.026\n",
      "Auto Parts & Repair                              0.0242      0.005      4.426      0.000       0.013       0.035\n",
      "Websites                                        -0.0404      0.010     -4.231      0.000      -0.059      -0.022\n",
      "Live Events & Ticketing                          0.0119      0.005      2.602      0.009       0.003       0.021\n",
      "Televisions                                     -0.0361      0.020     -1.775      0.076      -0.076       0.004\n",
      "Laundry Detergents & Fabric Softeners            0.1722      0.236      0.729      0.466      -0.291       0.635\n",
      "Office & School Supplies                        -0.0106      0.008     -1.406      0.160      -0.025       0.004\n",
      "Furniture Stores                                 0.0121      0.004      3.318      0.001       0.005       0.019\n",
      "Tires                                           -0.0300      0.006     -4.788      0.000      -0.042      -0.018\n",
      "Shipping                                         0.0231      0.015      1.558      0.119      -0.006       0.052\n",
      "Baby Care                                       -0.0128      0.016     -0.785      0.432      -0.045       0.019\n",
      "Delivery Services                               -0.0517      0.009     -5.751      0.000      -0.069      -0.034\n",
      "Shoes & Socks                                   -0.0076      0.012     -0.645      0.519      -0.031       0.016\n",
      "Car Rental                                      -0.0072      0.016     -0.444      0.657      -0.039       0.024\n",
      "Airlines                                        -0.0909      0.014     -6.507      0.000      -0.118      -0.063\n",
      "Men's Health                                    -0.0803      0.011     -7.391      0.000      -0.102      -0.059\n",
      "Dessert & Baking                                -0.0902      0.012     -7.665      0.000      -0.113      -0.067\n",
      "Women's Health                                  -0.0873      0.010     -8.934      0.000      -0.106      -0.068\n",
      "Hair Styling Tools & Services                   -0.1233      0.012    -10.468      0.000      -0.146      -0.100\n",
      "Tax Filing Services                             -0.0829      0.007    -12.037      0.000      -0.096      -0.069\n",
      "Cosmetics & Makeup                              -0.0247      0.007     -3.502      0.000      -0.039      -0.011\n",
      "Coffee & Tea                                    -0.0696      0.009     -8.045      0.000      -0.087      -0.053\n",
      "Bread, Rice, Pastas & Sides                     -0.0792      0.007    -11.157      0.000      -0.093      -0.065\n",
      "Supplementary Education                         -0.0838      0.007    -12.342      0.000      -0.097      -0.070\n",
      "Plumbing                                        -0.0809      0.007    -12.367      0.000      -0.094      -0.068\n",
      "Grocery Stores                                   0.0138      0.007      1.951      0.051   -6.14e-05       0.028\n",
      "Motorcycles, Recreation & Utility               -0.0030      0.007     -0.456      0.648      -0.016       0.010\n",
      "Deodorants & Antiperspirants                    -0.0058      0.009     -0.642      0.521      -0.023       0.012\n",
      "Debt Assistance Programs                         0.0186      0.007      2.826      0.005       0.006       0.031\n",
      "Newspapers, Books & Magazines                    0.0170      0.004      3.886      0.000       0.008       0.026\n",
      "Rx: Depression, Bipolar & Insomnia               0.0121      0.010      1.164      0.244      -0.008       0.032\n",
      "Religion                                         0.0082      0.005      1.820      0.069      -0.001       0.017\n",
      "Non-Profit Organizations                        -0.0228      0.014     -1.660      0.097      -0.050       0.004\n",
      "Loans                                           -0.0056      0.005     -1.041      0.298      -0.016       0.005\n",
      "Consulting                                       0.0428      0.005      8.876      0.000       0.033       0.052\n",
      "Energy & Sports Drinks                           0.0038      0.005      0.724      0.469      -0.006       0.014\n",
      "Water                                            0.0269      0.006      4.544      0.000       0.015       0.039\n",
      "Retirement Communities                          -0.0553      0.019     -2.945      0.003      -0.092      -0.018\n",
      "Health                                          -0.0579      0.016     -3.544      0.000      -0.090      -0.026\n",
      "Reproductive Health                             -0.0313      0.010     -3.031      0.002      -0.052      -0.011\n",
      "Hobbies & Collectibles                           0.0160      0.003      4.951      0.000       0.010       0.022\n",
      "Vocational Schools                              -0.0258      0.009     -2.723      0.006      -0.044      -0.007\n",
      "Music                                            0.0057      0.009      0.608      0.544      -0.013       0.024\n",
      "Gardening & Outdoor                             -0.0051      0.015     -0.340      0.734      -0.034       0.024\n",
      "Structured Settlements & Annuities               0.0137      0.006      2.241      0.025       0.002       0.026\n",
      "Insect & Pest Control                           -0.0267      0.012     -2.237      0.025      -0.050      -0.003\n",
      "Heating and Cooling                             -0.0062      0.005     -1.362      0.173      -0.015       0.003\n",
      "Entertainment & Games                            0.0234      0.009      2.597      0.009       0.006       0.041\n",
      "Hotels & Motels                                  0.0064      0.006      1.140      0.254      -0.005       0.017\n",
      "Chat & Psychics                                 -0.0162      0.035     -0.463      0.643      -0.085       0.052\n",
      "Electronics & Appliances                         0.0591      0.022      2.637      0.008       0.015       0.103\n",
      "Politics & Elections                            -0.0211      0.011     -1.983      0.047      -0.042      -0.000\n",
      "Cameras                                         -0.0052      0.008     -0.667      0.505      -0.020       0.010\n",
      "Hunting & Fishing                               -0.0413      0.007     -6.257      0.000      -0.054      -0.028\n",
      "International Development                       -0.0056      0.007     -0.861      0.389      -0.018       0.007\n",
      "Paints & Stains                                 -0.0134      0.004     -3.678      0.000      -0.021      -0.006\n",
      "Educational Services                             0.0143      0.011      1.347      0.178      -0.006       0.035\n",
      "prev_Healthcare & Awareness                     -0.0124      0.005     -2.442      0.015      -0.022      -0.002\n",
      "prev_Auto Makers                                 0.0194      0.008      2.562      0.010       0.005       0.034\n",
      "prev_TV Networks                                -0.0410      0.010     -4.251      0.000      -0.060      -0.022\n",
      "prev_Rx: Psoriasis, Skin & Nails                 0.0049      0.006      0.777      0.437      -0.007       0.017\n",
      "prev_Cable, Satellite TV & ISP                  -0.0077      0.007     -1.093      0.274      -0.021       0.006\n",
      "prev_Rx: Diabetes & Blood Disorders             -0.0085      0.004     -2.412      0.016      -0.015      -0.002\n",
      "prev_Snack Foods                                -0.0053      0.003     -1.614      0.107      -0.012       0.001\n",
      "prev_Oral Care                                   0.0035      0.010      0.357      0.721      -0.016       0.023\n",
      "prev_OTC: Allergies, Cold & Flu                 -0.0096      0.006     -1.495      0.135      -0.022       0.003\n",
      "prev_Pet Care                                   -0.0077      0.004     -1.874      0.061      -0.016       0.000\n",
      "prev_Movies                                      0.0057      0.015      0.371      0.711      -0.025       0.036\n",
      "prev_Vitamins & Supplements                      0.0060      0.004      1.367      0.171      -0.003       0.015\n",
      "prev_Banks & Credit Cards                        0.0146      0.012      1.191      0.234      -0.009       0.039\n",
      "prev_Hospitals & Clinics                        -0.0031      0.006     -0.557      0.578      -0.014       0.008\n",
      "prev_Credit Services                            -0.0114      0.008     -1.381      0.167      -0.027       0.005\n",
      "prev_Shaving & Hair Removal                     -0.0004      0.004     -0.104      0.917      -0.009       0.008\n",
      "prev_Online & Information                        0.0666      0.039      1.708      0.088      -0.010       0.143\n",
      "prev_Clothing                                 3.868e-05      0.008      0.005      0.996      -0.016       0.017\n",
      "prev_Investment Services                         0.0013      0.004      0.295      0.768      -0.007       0.010\n",
      "prev_Resorts & Theme Parks                      4.4e-05      0.008      0.006      0.996      -0.015       0.015\n",
      "prev_Health Information                          0.0136      0.010      1.382      0.167      -0.006       0.033\n",
      "prev_Furniture & Bedding                        -0.0300      0.012     -2.456      0.014      -0.054      -0.006\n",
      "prev_Rx: Bladder & Gastrointestinal              0.0005      0.023      0.023      0.981      -0.045       0.046\n",
      "prev_Rx: Mens & Womens Health                    0.0389      0.026      1.498      0.134      -0.012       0.090\n",
      "prev_Social Issues                               0.0086      0.005      1.878      0.060      -0.000       0.018\n",
      "prev_Clothing & Footwear Stores                 -0.0481      0.024     -1.993      0.046      -0.095      -0.001\n",
      "prev_News & Information                         -0.0481      0.020     -2.450      0.014      -0.087      -0.010\n",
      "prev_Online & Auction Websites                  -0.0121      0.007     -1.751      0.080      -0.026       0.001\n",
      "prev_Hair Restoration                           -0.0018      0.004     -0.431      0.667      -0.010       0.006\n",
      "prev_Outdoor & Sporting Goods                   -0.0011      0.007     -0.173      0.863      -0.014       0.012\n",
      "prev_Bath                                       -0.0068      0.005     -1.492      0.136      -0.016       0.002\n",
      "prev_OTC: Pain Relief                            0.0107      0.011      0.945      0.345      -0.012       0.033\n",
      "prev_Gyms & Fitness                             -0.0081      0.007     -1.228      0.219      -0.021       0.005\n",
      "prev_Tools                                      -0.0202      0.008     -2.560      0.010      -0.036      -0.005\n",
      "prev_Flooring                                    0.0087      0.014      0.618      0.536      -0.019       0.036\n",
      "prev_Car Maintenance & Accessories              -0.0044      0.007     -0.626      0.531      -0.018       0.009\n",
      "prev_Weight Loss                                -0.0001      0.007     -0.021      0.983      -0.014       0.013\n",
      "prev_Sleep Disorders                            -0.0137      0.007     -2.089      0.037      -0.027      -0.001\n",
      "prev_Casual Dining                              -0.0021      0.019     -0.111      0.912      -0.039       0.035\n",
      "prev_Home Security                              -0.0059      0.006     -0.961      0.337      -0.018       0.006\n",
      "prev_OTC: Gastrointestinal                      -0.0065      0.006     -1.013      0.311      -0.019       0.006\n",
      "prev_Fuel & Motor Oil                           -0.0280      0.014     -1.936      0.053      -0.056       0.000\n",
      "prev_Mobile Devices                             -0.0280      0.010     -2.920      0.003      -0.047      -0.009\n",
      "prev_Auto & General                             -0.0048      0.021     -0.231      0.818      -0.045       0.036\n",
      "prev_Kitchenware                                 0.0022      0.003      0.648      0.517      -0.004       0.009\n",
      "prev_Rx: Asthma & COPD                          -0.0033      0.006     -0.563      0.574      -0.015       0.008\n",
      "prev_Frozen Foods                                0.8301      0.237      3.496      0.000       0.365       1.295\n",
      "prev_Skin & Foot Care                            0.0166      0.019      0.858      0.391      -0.021       0.054\n",
      "prev_Casinos & Gambling                         -0.0175      0.013     -1.314      0.189      -0.044       0.009\n",
      "prev_Supplies                                   -0.0470      0.018     -2.549      0.011      -0.083      -0.011\n",
      "prev_Business Supplies & Services               -0.0043      0.014     -0.311      0.756      -0.031       0.023\n",
      "prev_Power & Electricity                         0.0313      0.021      1.510      0.131      -0.009       0.072\n",
      "prev_Enterprise & Cloud                          0.0198      0.007      2.960      0.003       0.007       0.033\n",
      "prev_Quick Serve                                 0.0009      0.006      0.157      0.875      -0.011       0.013\n",
      "prev_Pizza                                      -0.0038      0.006     -0.603      0.547      -0.016       0.009\n",
      "prev_Department Stores                           0.0110      0.009      1.203      0.229      -0.007       0.029\n",
      "prev_Wireless                                   -0.0290      0.008     -3.461      0.001      -0.045      -0.013\n",
      "prev_Candy & Gum                                -0.0065      0.006     -1.137      0.256      -0.018       0.005\n",
      "prev_Breakfast & Cereal                         -0.0007      0.009     -0.082      0.935      -0.018       0.016\n",
      "prev_Accessories                                 0.0023      0.016      0.141      0.888      -0.030       0.034\n",
      "prev_Real Estate & Mortgages                    -0.0162      0.013     -1.270      0.204      -0.041       0.009\n",
      "prev_Dairy, Eggs & Cheese                        0.0335      0.037      0.914      0.361      -0.038       0.105\n",
      "prev_Cleaning Supplies & Fresheners             -0.0035      0.005     -0.678      0.498      -0.013       0.007\n",
      "prev_Hair Care                                  -0.0003      0.006     -0.049      0.961      -0.012       0.011\n",
      "prev_Toys & Games                                0.0122      0.015      0.837      0.403      -0.016       0.041\n",
      "prev_Housing & Home Improvement                 -0.0022      0.010     -0.215      0.830      -0.022       0.018\n",
      "prev_Car Dealers                                -0.0441      0.012     -3.707      0.000      -0.067      -0.021\n",
      "prev_Mobile Games & Video Games                  0.0025      0.008      0.335      0.738      -0.012       0.017\n",
      "prev_Beer                                       -0.0273      0.010     -2.811      0.005      -0.046      -0.008\n",
      "prev_Sports                                     -0.0063      0.009     -0.717      0.474      -0.024       0.011\n",
      "prev_Pets                                       -0.0166      0.038     -0.443      0.658      -0.090       0.057\n",
      "prev_Speakers & Headphones                       0.0177      0.022      0.804      0.422      -0.025       0.061\n",
      "prev_Fragrances                                 -0.0098      0.009     -1.122      0.262      -0.027       0.007\n",
      "prev_Computers & Tablets                         0.0021      0.005      0.430      0.667      -0.008       0.012\n",
      "prev_Meat & Seafood                             -0.0166      0.008     -1.986      0.047      -0.033      -0.000\n",
      "prev_Appliances                                 -0.0319      0.006     -5.108      0.000      -0.044      -0.020\n",
      "prev_Rx: Stroke, Cholesterol & Heart Disease    -0.0199      0.027     -0.730      0.465      -0.073       0.033\n",
      "prev_Specialty Stores                           -0.0243      0.008     -3.161      0.002      -0.039      -0.009\n",
      "prev_Addiction & Treatment Centers               0.0519      0.064      0.811      0.417      -0.073       0.177\n",
      "prev_Incontinence & Overactive Bladder          -0.0040      0.016     -0.253      0.800      -0.035       0.027\n",
      "prev_Sauces, Seasoning & Salad Dressings        -0.0758      0.027     -2.853      0.004      -0.128      -0.024\n",
      "prev_Legal Services                             -0.1294      0.079     -1.641      0.101      -0.284       0.025\n",
      "prev_Rx: Varied                                 -0.0235      0.006     -3.654      0.000      -0.036      -0.011\n",
      "prev_Canned Goods & Soups                       -0.0074      0.006     -1.231      0.218      -0.019       0.004\n",
      "prev_Cancer                                     -0.0051      0.006     -0.886      0.376      -0.016       0.006\n",
      "prev_Colleges & Universities                    -0.0107      0.008     -1.403      0.161      -0.026       0.004\n",
      "prev_Animals & Environment                      -0.0172      0.006     -2.671      0.008      -0.030      -0.005\n",
      "prev_Research                                    0.0251      0.028      0.894      0.371      -0.030       0.080\n",
      "prev_Soda                                       -0.0369      0.012     -3.127      0.002      -0.060      -0.014\n",
      "prev_Fruit Juices & Drinks                      -0.0164      0.007     -2.288      0.022      -0.030      -0.002\n",
      "prev_Underwear                                  -0.0115      0.009     -1.279      0.201      -0.029       0.006\n",
      "prev_Garbage & Freezer Bags                     -0.0313      0.006     -5.235      0.000      -0.043      -0.020\n",
      "prev_Web Services                                0.0084      0.054      0.154      0.877      -0.098       0.115\n",
      "prev_Rx: Cancer                                 -0.0282      0.009     -3.077      0.002      -0.046      -0.010\n",
      "prev_Dating                                     -0.0062      0.004     -1.447      0.148      -0.015       0.002\n",
      "prev_Toiletries & Paper Products                -0.0168      0.005     -3.417      0.001      -0.026      -0.007\n",
      "prev_Military                                   -0.0171      0.019     -0.894      0.371      -0.055       0.020\n",
      "prev_Life & Supplementary                       -0.0059      0.004     -1.674      0.094      -0.013       0.001\n",
      "prev_Medical Services                            0.0123      0.016      0.790      0.430      -0.018       0.043\n",
      "prev_Health Conscious                           -0.0166      0.006     -2.611      0.009      -0.029      -0.004\n",
      "prev_Child Advocacy & Education                  0.0005      0.012      0.041      0.968      -0.023       0.024\n",
      "prev_Mattress Stores                            -0.0831      0.049     -1.681      0.093      -0.180       0.014\n",
      "prev_Consumer Software & Apps                    0.0051      0.004      1.167      0.243      -0.003       0.014\n",
      "prev_Auditory & Vision                           0.0082      0.007      1.253      0.210      -0.005       0.021\n",
      "prev_Home Entertainment                          0.0027      0.005      0.586      0.558      -0.006       0.012\n",
      "prev_Pharmacies                                 -0.0168      0.009     -1.915      0.055      -0.034       0.000\n",
      "prev_Cities & Destinations                      -0.0139      0.004     -3.194      0.001      -0.022      -0.005\n",
      "prev_Cruiselines                                 0.0011      0.006      0.190      0.849      -0.011       0.013\n",
      "prev_Rx: Osteoporosis & Arthritis                0.0036      0.005      0.765      0.444      -0.006       0.013\n",
      "prev_Wine, Alcohol & E-Cigs                     -0.0070      0.008     -0.881      0.378      -0.023       0.009\n",
      "prev_Rx: Alzheimers & Multiple Sclerosis         0.0484      0.167      0.290      0.772      -0.279       0.376\n",
      "prev_Government Services                        -0.0006      0.008     -0.076      0.939      -0.017       0.015\n",
      "prev_Auto Parts & Repair                         0.0043      0.005      0.808      0.419      -0.006       0.015\n",
      "prev_Websites                                   -0.0217      0.009     -2.401      0.016      -0.039      -0.004\n",
      "prev_Live Events & Ticketing                    -0.0051      0.004     -1.134      0.257      -0.014       0.004\n",
      "prev_Televisions                                -0.0033      0.022     -0.152      0.879      -0.046       0.039\n",
      "prev_Laundry Detergents & Fabric Softeners       0.0497      0.236      0.210      0.833      -0.413       0.513\n",
      "prev_Office & School Supplies                   -0.0104      0.007     -1.408      0.159      -0.025       0.004\n",
      "prev_Furniture Stores                            0.0030      0.004      0.835      0.404      -0.004       0.010\n",
      "prev_Tires                                      -0.0171      0.006     -2.698      0.007      -0.030      -0.005\n",
      "prev_Shipping                                    0.0190      0.016      1.223      0.221      -0.011       0.049\n",
      "prev_Baby Care                                  -0.0500      0.016     -3.151      0.002      -0.081      -0.019\n",
      "prev_Delivery Services                          -0.0167      0.009     -1.851      0.064      -0.034       0.001\n",
      "prev_Shoes & Socks                              -0.0153      0.012     -1.297      0.195      -0.039       0.008\n",
      "prev_Car Rental                                  0.0009      0.018      0.050      0.960      -0.034       0.035\n",
      "prev_Airlines                                   -0.0358      0.014     -2.604      0.009      -0.063      -0.009\n",
      "prev_Men's Health                               -0.0143      0.010     -1.400      0.162      -0.034       0.006\n",
      "prev_Dessert & Baking                           -0.0252      0.011     -2.271      0.023      -0.047      -0.003\n",
      "prev_Women's Health                             -0.0272      0.010     -2.703      0.007      -0.047      -0.007\n",
      "prev_Hair Styling Tools & Services              -0.0399      0.012     -3.403      0.001      -0.063      -0.017\n",
      "prev_Tax Filing Services                        -0.0366      0.007     -5.373      0.000      -0.050      -0.023\n",
      "prev_Cosmetics & Makeup                         -0.0111      0.007     -1.587      0.112      -0.025       0.003\n",
      "prev_Coffee & Tea                               -0.0358      0.008     -4.325      0.000      -0.052      -0.020\n",
      "prev_Bread, Rice, Pastas & Sides                -0.0331      0.007     -4.743      0.000      -0.047      -0.019\n",
      "prev_Supplementary Education                    -0.0404      0.007     -5.980      0.000      -0.054      -0.027\n",
      "prev_Plumbing                                   -0.0193      0.006     -2.995      0.003      -0.032      -0.007\n",
      "prev_Grocery Stores                              0.0121      0.007      1.724      0.085      -0.002       0.026\n",
      "prev_Motorcycles, Recreation & Utility          -0.0009      0.007     -0.140      0.889      -0.014       0.012\n",
      "prev_Deodorants & Antiperspirants                0.0004      0.009      0.043      0.966      -0.017       0.018\n",
      "prev_Debt Assistance Programs                    0.0053      0.006      0.833      0.405      -0.007       0.018\n",
      "prev_Newspapers, Books & Magazines              -0.0008      0.004     -0.186      0.852      -0.009       0.008\n",
      "prev_Rx: Depression, Bipolar & Insomnia         -0.0106      0.010     -1.021      0.307      -0.031       0.010\n",
      "prev_Religion                                   -0.0072      0.004     -1.620      0.105      -0.016       0.002\n",
      "prev_Non-Profit Organizations                   -0.0290      0.014     -2.031      0.042      -0.057      -0.001\n",
      "prev_Loans                                      -0.0086      0.005     -1.642      0.101      -0.019       0.002\n",
      "prev_Consulting                                  0.0296      0.005      6.328      0.000       0.020       0.039\n",
      "prev_Energy & Sports Drinks                     -0.0055      0.005     -1.073      0.283      -0.016       0.005\n",
      "prev_Water                                       0.0016      0.006      0.269      0.788      -0.010       0.014\n",
      "prev_Retirement Communities                     -0.0205      0.020     -1.032      0.302      -0.059       0.018\n",
      "prev_Health                                     -0.0325      0.015     -2.154      0.031      -0.062      -0.003\n",
      "prev_Reproductive Health                        -0.0138      0.010     -1.318      0.187      -0.034       0.007\n",
      "prev_Hobbies & Collectibles                     -0.0081      0.003     -2.567      0.010      -0.014      -0.002\n",
      "prev_Vocational Schools                         -0.0254      0.010     -2.641      0.008      -0.044      -0.007\n",
      "prev_Music                                      -0.0018      0.009     -0.189      0.850      -0.020       0.017\n",
      "prev_Gardening & Outdoor                         0.0059      0.013      0.436      0.663      -0.020       0.032\n",
      "prev_Structured Settlements & Annuities          0.0101      0.006      1.676      0.094      -0.002       0.022\n",
      "prev_Insect & Pest Control                      -0.0003      0.012     -0.026      0.979      -0.024       0.023\n",
      "prev_Heating and Cooling                        -0.0131      0.005     -2.856      0.004      -0.022      -0.004\n",
      "prev_Entertainment & Games                       0.0067      0.009      0.757      0.449      -0.011       0.024\n",
      "prev_Hotels & Motels                             0.0019      0.006      0.335      0.738      -0.009       0.013\n",
      "prev_Chat & Psychics                             0.0306      0.034      0.890      0.374      -0.037       0.098\n",
      "prev_Electronics & Appliances                    0.0155      0.022      0.692      0.489      -0.028       0.059\n",
      "prev_Politics & Elections                       -0.0310      0.010     -3.022      0.003      -0.051      -0.011\n",
      "prev_Cameras                                    -0.0157      0.008     -2.026      0.043      -0.031      -0.001\n",
      "prev_Hunting & Fishing                          -0.0285      0.007     -4.358      0.000      -0.041      -0.016\n",
      "prev_International Development                  -0.0161      0.006     -2.543      0.011      -0.028      -0.004\n",
      "prev_Paints & Stains                            -0.0115      0.004     -3.232      0.001      -0.018      -0.005\n",
      "prev_Educational Services                        0.0023      0.011      0.220      0.826      -0.018       0.023\n",
      "==============================================================================\n",
      "Omnibus:                    65438.339   Durbin-Watson:                   1.138\n",
      "Prob(Omnibus):                  0.000   Jarque-Bera (JB):           105347.638\n",
      "Skew:                           1.108   Prob(JB):                         0.00\n",
      "Kurtosis:                       4.139   Cond. No.                         402.\n",
      "==============================================================================\n",
      "\n",
      "Notes:\n",
      "[1] R² is computed without centering (uncentered) since the model does not contain a constant.\n",
      "[2] Standard Errors assume that the covariance matrix of the errors is correctly specified.\n"
     ]
    }
   ],
   "source": [
    "Y = demean_encod_dt['demean_y']\n",
    "X = demean_encod_dt[ind]\n",
    "model = sm.OLS(Y,X)\n",
    "result2 = model.fit()\n",
    "print(result2.summary())"
   ]
  },
  {
   "cell_type": "code",
   "execution_count": null,
   "id": "52031e78",
   "metadata": {},
   "outputs": [],
   "source": [
    "# top/bottom 5 industries \n",
    "# top/bottom 5 previous industries"
   ]
  },
  {
   "cell_type": "code",
   "execution_count": 23,
   "id": "c1041a72",
   "metadata": {},
   "outputs": [],
   "source": [
    "coef_ = result2.params\n",
    "std = result2.bse\n",
    "\n",
    "ind_coef = coef_[:168]\n",
    "ind_std = std[:168]\n",
    "prev_ind_coef = coef_[168:]\n",
    "prev_ind_std = std[168:]\n",
    "\n",
    "dict = {'coef':ind_coef,'std':ind_std,'l_cf': ind_coef - ind_std,'u_cf': ind_coef + ind_std}\n",
    "ind_param = pd.DataFrame(dict)\n",
    "prev_dict = {'coef':prev_ind_coef,'std':prev_ind_std,'l_cf': prev_ind_coef - prev_ind_std,'u_cf': prev_ind_coef + prev_ind_std}\n",
    "prev_param = pd.DataFrame(prev_dict)"
   ]
  },
  {
   "cell_type": "code",
   "execution_count": 19,
   "id": "ed1a5612",
   "metadata": {},
   "outputs": [],
   "source": [
    "sorted_ind_param = ind_param.sort_values(by = ['coef'],ascending=False)\n",
    "sorted_prev_param = prev_param.sort_values(by=['coef'],ascending=False)\n",
    "\n",
    "select_ind = sorted_ind_param.iloc[:5]\n",
    "select_ind = select_ind.append(sorted_ind_param.iloc[-5:])"
   ]
  },
  {
   "cell_type": "code",
   "execution_count": 20,
   "id": "51cf3f4c",
   "metadata": {},
   "outputs": [],
   "source": [
    "select_prev_ind = sorted_prev_param.iloc[:5]\n",
    "select_prev_ind = select_prev_ind.append(sorted_prev_param.iloc[-5:])"
   ]
  },
  {
   "cell_type": "code",
   "execution_count": 21,
   "id": "680369ae",
   "metadata": {},
   "outputs": [
    {
     "data": {
      "image/png": "[encoded data removed]",
      "text/plain": [
       "<Figure size 432x288 with 1 Axes>"
      ]
     },
     "metadata": {
      "needs_background": "light"
     },
     "output_type": "display_data"
    }
   ],
   "source": [
    "# plot industry\n",
    "yvals = range(len(select_ind))\n",
    "xvals = select_ind['coef'].values\n",
    "x_std = select_ind['std'].values\n",
    "plt.barh(yvals, xvals, xerr=x_std, capsize=15)\n",
    "plt.yticks(range(len(select_ind)), select_ind.index)\n",
    "plt.xlabel('Coeffecient')\n",
    "plt.title('Industry with banchmark as Home Improvement')\n",
    "plt.show()"
   ]
  },
  {
   "cell_type": "code",
   "execution_count": 22,
   "id": "5109f43c",
   "metadata": {},
   "outputs": [
    {
     "data": {
      "image/png": "[encoded data removed]",
      "text/plain": [
       "<Figure size 432x288 with 1 Axes>"
      ]
     },
     "metadata": {
      "needs_background": "light"
     },
     "output_type": "display_data"
    }
   ],
   "source": [
    "# plot previous industry\n",
    "yvals = range(len(select_prev_ind))\n",
    "xvals = select_prev_ind['coef'].values\n",
    "x_std = select_prev_ind['std'].values\n",
    "plt.barh(yvals, xvals, xerr=x_std, capsize=15)\n",
    "plt.yticks(range(len(select_prev_ind)), select_prev_ind.index)\n",
    "plt.xlabel('Coeffecient')\n",
    "plt.title('Previous Industry with banchmark as Home Improvement')\n",
    "plt.show()"
   ]
  },
  {
   "cell_type": "code",
   "execution_count": null,
   "id": "3278409e",
   "metadata": {},
   "outputs": [],
   "source": [
    "# Regression Three\n",
    "# Y: coefficient of industry in their ranks\n",
    "# X: coefficient of previous industry in their ranks"
   ]
  },
  {
   "cell_type": "code",
   "execution_count": 30,
   "id": "1d11ce2e",
   "metadata": {},
   "outputs": [
    {
     "name": "stdout",
     "output_type": "stream",
     "text": [
      "0.6452893030507035\n",
      "3.677904999657976e-21\n"
     ]
    }
   ],
   "source": [
    "# rank correlation\n",
    "from scipy.stats import spearmanr\n",
    "#calculate Spearman Rank correlation and corresponding p-value\n",
    "rho, p = spearmanr(ind_coef, prev_ind_coef)\n",
    "\n",
    "#print Spearman rank correlation and p-value\n",
    "print(rho)\n",
    "print(p)"
   ]
  }
 ],
 "metadata": {
  "kernelspec": {
   "display_name": "Python 3",
   "language": "python",
   "name": "python3"
  },
  "language_info": {
   "codemirror_mode": {
    "name": "ipython",
    "version": 3
   },
   "file_extension": ".py",
   "mimetype": "text/x-python",
   "name": "python",
   "nbconvert_exporter": "python",
   "pygments_lexer": "ipython3",
   "version": "3.8.8"
  }
 },
 "nbformat": 4,
 "nbformat_minor": 5
}
